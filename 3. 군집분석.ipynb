{
 "cells": [
  {
   "cell_type": "markdown",
   "id": "c3ca3e68",
   "metadata": {},
   "source": [
    "### <div class=\"alert alert-block alert-info\">  [Part1] 개념 </div>\n",
    "- 데이터에는 다양한 변수가 조재하고, 데이터의 표본도 충분합니다. 데이터를 훈련과 테스트데이터로 분류해서 예측모델링을 진행할수 하기전 정교한 데이터 분석 결과를 위해서는 데이터를 한번에 분석하기 보다는 비슷한 유형의 표본끼리 모아 분석을 진행해야 할 때도 있음. \n"
   ]
  },
  {
   "cell_type": "markdown",
   "id": "4cbc42b0",
   "metadata": {},
   "source": [
    "\n",
    "### <div class=\"alert alert-block alert-info\">  [Part2] 유사도분석(Similarity) </div>\n",
    "- 표본의 비슷한 정도를 측정하는 분석\n",
    "    - (1) 유클리디안 거리(Euclidean Distance)\n",
    "        - 유클리디안 거리: 공간 좌표상에서 데이터의 직선거리를 의미\n",
    "        - 두 데이터끼리 직선거리가 가까울수록 비슷하다고 판단\n",
    "        - L1 Norm\n",
    "        <br><br>\n",
    "    - (2) 코사인 유사도(Cosine simiarity)\n",
    "        - 원점을 기준으로 두 데이터가 가지는 각도에 대한 코사인 값\n",
    "        - 원점을 기준으로 두 데이터가 위치한 방향이 일치할수록 비슷하다고 판단\n",
    "        - L2 Norm  (-1~1 값 return)\n",
    "        \n",
    "       <br>\n",
    "- https://velog.io/@00springbom00/%EB%8D%B0%EC%9D%B4%ED%84%B0%EA%B3%BC%ED%95%99-%EA%B8%B0%EC%B4%88-14%EB%84%A4%ED%8A%B8%EC%9B%8C%ED%81%AC%EC%9D%98-%EC%9C%A0%EC%82%AC%EB%8F%84%EC%99%80-%EA%B5%B0%EC%A7%91%EB%8F%84"
   ]
  },
  {
   "cell_type": "markdown",
   "id": "7cfaac43",
   "metadata": {},
   "source": [
    "### <div class=\"alert alert-block alert-info\"> [Part3] 계층적 군집분석 </div>\n",
    "\n",
    "- 계층적 군집분석은 거리행렬을 기반으로 비슷한 특성을 가지는 데이터를 묶는 것이 목적임.\n",
    "- 이때 모든 거리를 계산해야 함으로 데이터 행의 수가 매우 많은 상황에서는 적합하지 않은 분석방법으로서 분석대상 데이터의 행의 수가 적거나 탐색적으로 분석할때 다량의 데이터에서 일부를 무작위 추출해서 진행함.\n",
    "<br>\n",
    "- 계층적군집분석  hclust()\n",
    "    - 거리행렬을 이용하여 계산함 (유클리디안 / 코사인 )\n",
    "    "
   ]
  },
  {
   "cell_type": "code",
   "execution_count": null,
   "id": "a6764364",
   "metadata": {},
   "outputs": [],
   "source": [
    "# https://todayisbetterthanyesterday.tistory.com/61\n",
    "# https://hyunse0.tistory.com/50"
   ]
  },
  {
   "cell_type": "markdown",
   "id": "f0f26a36",
   "metadata": {},
   "source": [
    "### <div class=\"alert alert-block alert-info\"> [Part4] 비계층적 군집분석 </div>\n",
    "- 계층적 군집분석은 대용량의 데이터에 대해서는 매우 비효율적임. 연산속도도 느리고, 많은 데이터의 군집결과를 시각적으로 표현하기도 어려움. 실제분석에서는 계층적 군집분석보다는 비계층적 군집분석이 더 자주 사용됨.\n",
    "- 예) K-means clusering\n",
    "- 기본코드: https://bcho.tistory.com/m/1203"
   ]
  },
  {
   "cell_type": "markdown",
   "id": "b2b198ff",
   "metadata": {},
   "source": [
    "- 하이퍼파라미터 \n",
    "    - 모델링할 때 사용자가 직접 세팅해주는 값\n",
    "- 그리드서치\n",
    "    - 머신러닝 분야에서 하이퍼매개변수를 표(테이블) 모양의 그리드 서치에 자동으로 넣어서 사용자가 별도의 FOR 없이 다중 프로그래밍 할수 있도록 작업할수 있는 하이퍼파라미터 튜닝\n",
    "- https://wikidocs.net/42232"
   ]
  },
  {
   "cell_type": "markdown",
   "id": "fa76a0f1",
   "metadata": {},
   "source": [
    "- bank.csv의 자료를 kmeans 기법으로 세분화한 코드: Customer Segmentation\n",
    "    - https://www.kaggle.com/code/adamwurdits/customer-segmentation"
   ]
  },
  {
   "cell_type": "markdown",
   "id": "3fd87bf0",
   "metadata": {},
   "source": [
    "- 직선거리를 이용한 창고 입지선정\n",
    "    - https://mgoptimization.oopy.io/f75f828f-2e9a-42fd-b71e-0c798d3c464e"
   ]
  },
  {
   "cell_type": "markdown",
   "id": "4cb48752",
   "metadata": {},
   "source": [
    "- 주가를 이용한 산업분류(파이썬으로 K Means Clustering) \n",
    "    - https://working-rich.tistory.com/entry/%EC%A3%BC%EC%8B%9D-%EC%A2%85%EB%AA%A9%EB%93%A4%EC%9D%98-%EC%97%85%EC%A2%85-k-means-clustering-%EC%95%8C%EA%B3%A0%EB%A6%AC%EC%A6%98%EC%9C%BC%EB%A1%9C-%EB%B6%84%EB%A5%98%ED%95%98%EA%B8%B0\n",
    "    - https://blog.naver.com/PostView.naver?blogId=jun652006&logNo=222314666237&from=search&redirect=Log&widgetTypeCall=true&directAccess=false"
   ]
  },
  {
   "cell_type": "markdown",
   "id": "ace2af41",
   "metadata": {},
   "source": [
    "- 군집화 dbscan\n",
    "- K-평균 군집화 방법은 단순하고 강력한 방법이지만 군집의 모양이 원형이 아닌 경우에는 잘 동작하지 않으며 군집의 갯수를 사용자가 지정해주어야 한다는 단점이 있다.\n",
    "\n",
    "- https://datascienceschool.net/03%20machine%20learning/16.03%20%EB%94%94%EB%B9%84%EC%8A%A4%EC%BA%94%20%EA%B5%B0%EC%A7%91%ED%99%94.html"
   ]
  }
 ],
 "metadata": {
  "kernelspec": {
   "display_name": "Python 3 (ipykernel)",
   "language": "python",
   "name": "python3"
  },
  "language_info": {
   "codemirror_mode": {
    "name": "ipython",
    "version": 3
   },
   "file_extension": ".py",
   "mimetype": "text/x-python",
   "name": "python",
   "nbconvert_exporter": "python",
   "pygments_lexer": "ipython3",
   "version": "3.9.5"
  }
 },
 "nbformat": 4,
 "nbformat_minor": 5
}
